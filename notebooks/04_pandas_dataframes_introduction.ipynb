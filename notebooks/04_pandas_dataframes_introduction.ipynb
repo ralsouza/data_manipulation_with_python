{
  "nbformat": 4,
  "nbformat_minor": 0,
  "metadata": {
    "colab": {
      "name": "04_pandas_dataframes_introduction.ipynb",
      "provenance": [],
      "collapsed_sections": [],
      "authorship_tag": "ABX9TyOoC548Q/vU62EnPnJ/xNXA",
      "include_colab_link": true
    },
    "kernelspec": {
      "name": "python3",
      "display_name": "Python 3"
    }
  },
  "cells": [
    {
      "cell_type": "markdown",
      "metadata": {
        "id": "view-in-github",
        "colab_type": "text"
      },
      "source": [
        "<a href=\"https://colab.research.google.com/github/ralsouza/data_manipulation_with_python/blob/master/notebooks/04_pandas_dataframes_introduction.ipynb\" target=\"_parent\"><img src=\"https://colab.research.google.com/assets/colab-badge.svg\" alt=\"Open In Colab\"/></a>"
      ]
    },
    {
      "cell_type": "markdown",
      "metadata": {
        "id": "rTAyOaT-9izu",
        "colab_type": "text"
      },
      "source": [
        "# Data Structures with Pandas\n",
        "`pandas.Series()` - 1 dimension - 1D\n",
        "\n",
        "`pandas.Dataframe()` - 2 dimensions - 2D\n",
        "\n",
        "`pandas.Panel()` - 3 dimensions - 3D\n",
        "\n",
        "For more than 3 dimensions, use NumPy\n",
        "\n",
        "`numpy.ndarray()` - x dimensions\n",
        "\n"
      ]
    },
    {
      "cell_type": "code",
      "metadata": {
        "id": "c98aGei1_xPK",
        "colab_type": "code",
        "colab": {}
      },
      "source": [
        "import numpy as np\n",
        "import pandas as pd"
      ],
      "execution_count": 0,
      "outputs": []
    },
    {
      "cell_type": "code",
      "metadata": {
        "id": "2Z445SMB877i",
        "colab_type": "code",
        "colab": {}
      },
      "source": [
        "stock = {'AMZN': pd.Series([346.15,0.59,459,0.52,589.8,158.88],\n",
        "                           index = ['Closing price','EPS','Shares Outstanding(M)', \n",
        "                                  'Beta', 'P/E','Market Cap(B)']),\n",
        "         'GOOG': pd.Series([1133.43,36.05,335.83,0.87,31.44,380.64],\n",
        "                            index = ['Closing price','EPS','Shares Outstanding(M)',\n",
        "                                  'Beta','P/E','Market Cap(B)']),\n",
        "         'FB': pd.Series([61.48,0.59,2450,104.93,150.92],\n",
        "                            index = ['Closing price','EPS','Shares Outstanding(M)',\n",
        "                                  'P/E', 'Market Cap(B)']),\n",
        "         'YHOO': pd.Series([34.90,1.27,1010,27.48,0.66,35.36],\n",
        "                            index=['Closing price','EPS','Shares Outstanding(M)',\n",
        "                                  'P/E','Beta', 'Market Cap(B)']),\n",
        "         'TWTR':pd.Series([65.25,-0.3,555.2,36.23],\n",
        "                            index=['Closing price','EPS','Shares Outstanding(M)',\n",
        "                                  'Market Cap(B)']),\n",
        "         'AAPL':pd.Series([501.53,40.32,892.45,12.44,447.59,0.84],\n",
        "                            index=['Closing price','EPS','Shares Outstanding(M)','P/E',\n",
        "                                  'Market Cap(B)','Beta'])}"
      ],
      "execution_count": 0,
      "outputs": []
    },
    {
      "cell_type": "code",
      "metadata": {
        "id": "zYnWPgXEALWl",
        "colab_type": "code",
        "colab": {
          "base_uri": "https://localhost:8080/",
          "height": 34
        },
        "outputId": "2e1f3e1c-bd9f-486b-d216-8f845991796d"
      },
      "source": [
        "type(stock)"
      ],
      "execution_count": 6,
      "outputs": [
        {
          "output_type": "execute_result",
          "data": {
            "text/plain": [
              "dict"
            ]
          },
          "metadata": {
            "tags": []
          },
          "execution_count": 6
        }
      ]
    },
    {
      "cell_type": "code",
      "metadata": {
        "id": "Gn29J11JAWnK",
        "colab_type": "code",
        "colab": {
          "base_uri": "https://localhost:8080/",
          "height": 235
        },
        "outputId": "027b9136-d234-46ca-bb72-0459fa54239e"
      },
      "source": [
        "# Convert this dict to Dataframe\n",
        "stock_df = pd.DataFrame(stock); stock_df"
      ],
      "execution_count": 9,
      "outputs": [
        {
          "output_type": "execute_result",
          "data": {
            "text/html": [
              "<div>\n",
              "<style scoped>\n",
              "    .dataframe tbody tr th:only-of-type {\n",
              "        vertical-align: middle;\n",
              "    }\n",
              "\n",
              "    .dataframe tbody tr th {\n",
              "        vertical-align: top;\n",
              "    }\n",
              "\n",
              "    .dataframe thead th {\n",
              "        text-align: right;\n",
              "    }\n",
              "</style>\n",
              "<table border=\"1\" class=\"dataframe\">\n",
              "  <thead>\n",
              "    <tr style=\"text-align: right;\">\n",
              "      <th></th>\n",
              "      <th>AMZN</th>\n",
              "      <th>GOOG</th>\n",
              "      <th>FB</th>\n",
              "      <th>YHOO</th>\n",
              "      <th>TWTR</th>\n",
              "      <th>AAPL</th>\n",
              "    </tr>\n",
              "  </thead>\n",
              "  <tbody>\n",
              "    <tr>\n",
              "      <th>Beta</th>\n",
              "      <td>0.52</td>\n",
              "      <td>0.87</td>\n",
              "      <td>NaN</td>\n",
              "      <td>0.66</td>\n",
              "      <td>NaN</td>\n",
              "      <td>0.84</td>\n",
              "    </tr>\n",
              "    <tr>\n",
              "      <th>Closing price</th>\n",
              "      <td>346.15</td>\n",
              "      <td>1133.43</td>\n",
              "      <td>61.48</td>\n",
              "      <td>34.90</td>\n",
              "      <td>65.25</td>\n",
              "      <td>501.53</td>\n",
              "    </tr>\n",
              "    <tr>\n",
              "      <th>EPS</th>\n",
              "      <td>0.59</td>\n",
              "      <td>36.05</td>\n",
              "      <td>0.59</td>\n",
              "      <td>1.27</td>\n",
              "      <td>-0.30</td>\n",
              "      <td>40.32</td>\n",
              "    </tr>\n",
              "    <tr>\n",
              "      <th>Market Cap(B)</th>\n",
              "      <td>158.88</td>\n",
              "      <td>380.64</td>\n",
              "      <td>150.92</td>\n",
              "      <td>35.36</td>\n",
              "      <td>36.23</td>\n",
              "      <td>447.59</td>\n",
              "    </tr>\n",
              "    <tr>\n",
              "      <th>P/E</th>\n",
              "      <td>589.80</td>\n",
              "      <td>31.44</td>\n",
              "      <td>104.93</td>\n",
              "      <td>27.48</td>\n",
              "      <td>NaN</td>\n",
              "      <td>12.44</td>\n",
              "    </tr>\n",
              "    <tr>\n",
              "      <th>Shares Outstanding(M)</th>\n",
              "      <td>459.00</td>\n",
              "      <td>335.83</td>\n",
              "      <td>2450.00</td>\n",
              "      <td>1010.00</td>\n",
              "      <td>555.20</td>\n",
              "      <td>892.45</td>\n",
              "    </tr>\n",
              "  </tbody>\n",
              "</table>\n",
              "</div>"
            ],
            "text/plain": [
              "                         AMZN     GOOG       FB     YHOO    TWTR    AAPL\n",
              "Beta                     0.52     0.87      NaN     0.66     NaN    0.84\n",
              "Closing price          346.15  1133.43    61.48    34.90   65.25  501.53\n",
              "EPS                      0.59    36.05     0.59     1.27   -0.30   40.32\n",
              "Market Cap(B)          158.88   380.64   150.92    35.36   36.23  447.59\n",
              "P/E                    589.80    31.44   104.93    27.48     NaN   12.44\n",
              "Shares Outstanding(M)  459.00   335.83  2450.00  1010.00  555.20  892.45"
            ]
          },
          "metadata": {
            "tags": []
          },
          "execution_count": 9
        }
      ]
    },
    {
      "cell_type": "code",
      "metadata": {
        "id": "qZZeRIyEAhod",
        "colab_type": "code",
        "colab": {
          "base_uri": "https://localhost:8080/",
          "height": 235
        },
        "outputId": "8276d6c7-0f54-44dd-e1a0-72d13012a8aa"
      },
      "source": [
        "# When necessary, define the index names\n",
        "stock_df = pd.DataFrame(stock, \n",
        "                        index = ['Closing price',\n",
        "                                 'EPS', \n",
        "                                 'Shares Outstanding(M)',\n",
        "                                 'P/E', \n",
        "                                 'Market Cap(B)',\n",
        "                                 'Beta']); stock_df"
      ],
      "execution_count": 11,
      "outputs": [
        {
          "output_type": "execute_result",
          "data": {
            "text/html": [
              "<div>\n",
              "<style scoped>\n",
              "    .dataframe tbody tr th:only-of-type {\n",
              "        vertical-align: middle;\n",
              "    }\n",
              "\n",
              "    .dataframe tbody tr th {\n",
              "        vertical-align: top;\n",
              "    }\n",
              "\n",
              "    .dataframe thead th {\n",
              "        text-align: right;\n",
              "    }\n",
              "</style>\n",
              "<table border=\"1\" class=\"dataframe\">\n",
              "  <thead>\n",
              "    <tr style=\"text-align: right;\">\n",
              "      <th></th>\n",
              "      <th>AMZN</th>\n",
              "      <th>GOOG</th>\n",
              "      <th>FB</th>\n",
              "      <th>YHOO</th>\n",
              "      <th>TWTR</th>\n",
              "      <th>AAPL</th>\n",
              "    </tr>\n",
              "  </thead>\n",
              "  <tbody>\n",
              "    <tr>\n",
              "      <th>Closing price</th>\n",
              "      <td>346.15</td>\n",
              "      <td>1133.43</td>\n",
              "      <td>61.48</td>\n",
              "      <td>34.90</td>\n",
              "      <td>65.25</td>\n",
              "      <td>501.53</td>\n",
              "    </tr>\n",
              "    <tr>\n",
              "      <th>EPS</th>\n",
              "      <td>0.59</td>\n",
              "      <td>36.05</td>\n",
              "      <td>0.59</td>\n",
              "      <td>1.27</td>\n",
              "      <td>-0.30</td>\n",
              "      <td>40.32</td>\n",
              "    </tr>\n",
              "    <tr>\n",
              "      <th>Shares Outstanding(M)</th>\n",
              "      <td>459.00</td>\n",
              "      <td>335.83</td>\n",
              "      <td>2450.00</td>\n",
              "      <td>1010.00</td>\n",
              "      <td>555.20</td>\n",
              "      <td>892.45</td>\n",
              "    </tr>\n",
              "    <tr>\n",
              "      <th>P/E</th>\n",
              "      <td>589.80</td>\n",
              "      <td>31.44</td>\n",
              "      <td>104.93</td>\n",
              "      <td>27.48</td>\n",
              "      <td>NaN</td>\n",
              "      <td>12.44</td>\n",
              "    </tr>\n",
              "    <tr>\n",
              "      <th>Market Cap(B)</th>\n",
              "      <td>158.88</td>\n",
              "      <td>380.64</td>\n",
              "      <td>150.92</td>\n",
              "      <td>35.36</td>\n",
              "      <td>36.23</td>\n",
              "      <td>447.59</td>\n",
              "    </tr>\n",
              "    <tr>\n",
              "      <th>Beta</th>\n",
              "      <td>0.52</td>\n",
              "      <td>0.87</td>\n",
              "      <td>NaN</td>\n",
              "      <td>0.66</td>\n",
              "      <td>NaN</td>\n",
              "      <td>0.84</td>\n",
              "    </tr>\n",
              "  </tbody>\n",
              "</table>\n",
              "</div>"
            ],
            "text/plain": [
              "                         AMZN     GOOG       FB     YHOO    TWTR    AAPL\n",
              "Closing price          346.15  1133.43    61.48    34.90   65.25  501.53\n",
              "EPS                      0.59    36.05     0.59     1.27   -0.30   40.32\n",
              "Shares Outstanding(M)  459.00   335.83  2450.00  1010.00  555.20  892.45\n",
              "P/E                    589.80    31.44   104.93    27.48     NaN   12.44\n",
              "Market Cap(B)          158.88   380.64   150.92    35.36   36.23  447.59\n",
              "Beta                     0.52     0.87      NaN     0.66     NaN    0.84"
            ]
          },
          "metadata": {
            "tags": []
          },
          "execution_count": 11
        }
      ]
    },
    {
      "cell_type": "code",
      "metadata": {
        "id": "cPTfxt19BKdu",
        "colab_type": "code",
        "colab": {
          "base_uri": "https://localhost:8080/",
          "height": 235
        },
        "outputId": "282e8e83-402e-4354-8ae7-a92dd14eb8cb"
      },
      "source": [
        "# When necessary, define the column names and indexes\n",
        "stock_df = pd.DataFrame(stock,\n",
        "                        index = ['Closing price',\n",
        "                                 'EPS',\n",
        "                                 'Shares Outstanding(M)',\n",
        "                                 'P/E', \n",
        "                                 'Market Cap(B)',\n",
        "                                 'Beta'],\n",
        "                        columns = ['FB','TWTR','SCNW']); stock_df\n",
        "\n",
        "# Note the column SCNW, that doesn't match with DataFrame and Pandas assigning the NaN values"
      ],
      "execution_count": 12,
      "outputs": [
        {
          "output_type": "execute_result",
          "data": {
            "text/html": [
              "<div>\n",
              "<style scoped>\n",
              "    .dataframe tbody tr th:only-of-type {\n",
              "        vertical-align: middle;\n",
              "    }\n",
              "\n",
              "    .dataframe tbody tr th {\n",
              "        vertical-align: top;\n",
              "    }\n",
              "\n",
              "    .dataframe thead th {\n",
              "        text-align: right;\n",
              "    }\n",
              "</style>\n",
              "<table border=\"1\" class=\"dataframe\">\n",
              "  <thead>\n",
              "    <tr style=\"text-align: right;\">\n",
              "      <th></th>\n",
              "      <th>FB</th>\n",
              "      <th>TWTR</th>\n",
              "      <th>SCNW</th>\n",
              "    </tr>\n",
              "  </thead>\n",
              "  <tbody>\n",
              "    <tr>\n",
              "      <th>Closing price</th>\n",
              "      <td>61.48</td>\n",
              "      <td>65.25</td>\n",
              "      <td>NaN</td>\n",
              "    </tr>\n",
              "    <tr>\n",
              "      <th>EPS</th>\n",
              "      <td>0.59</td>\n",
              "      <td>-0.30</td>\n",
              "      <td>NaN</td>\n",
              "    </tr>\n",
              "    <tr>\n",
              "      <th>Shares Outstanding(M)</th>\n",
              "      <td>2450.00</td>\n",
              "      <td>555.20</td>\n",
              "      <td>NaN</td>\n",
              "    </tr>\n",
              "    <tr>\n",
              "      <th>P/E</th>\n",
              "      <td>104.93</td>\n",
              "      <td>NaN</td>\n",
              "      <td>NaN</td>\n",
              "    </tr>\n",
              "    <tr>\n",
              "      <th>Market Cap(B)</th>\n",
              "      <td>150.92</td>\n",
              "      <td>36.23</td>\n",
              "      <td>NaN</td>\n",
              "    </tr>\n",
              "    <tr>\n",
              "      <th>Beta</th>\n",
              "      <td>NaN</td>\n",
              "      <td>NaN</td>\n",
              "      <td>NaN</td>\n",
              "    </tr>\n",
              "  </tbody>\n",
              "</table>\n",
              "</div>"
            ],
            "text/plain": [
              "                            FB    TWTR SCNW\n",
              "Closing price            61.48   65.25  NaN\n",
              "EPS                       0.59   -0.30  NaN\n",
              "Shares Outstanding(M)  2450.00  555.20  NaN\n",
              "P/E                     104.93     NaN  NaN\n",
              "Market Cap(B)           150.92   36.23  NaN\n",
              "Beta                       NaN     NaN  NaN"
            ]
          },
          "metadata": {
            "tags": []
          },
          "execution_count": 12
        }
      ]
    },
    {
      "cell_type": "code",
      "metadata": {
        "id": "QrcVO1-RBX83",
        "colab_type": "code",
        "colab": {
          "base_uri": "https://localhost:8080/",
          "height": 68
        },
        "outputId": "7b33e0b9-5339-4dae-db85-9e88e24a6559"
      },
      "source": [
        "# Call index name attribute\n",
        "stock_df.index"
      ],
      "execution_count": 13,
      "outputs": [
        {
          "output_type": "execute_result",
          "data": {
            "text/plain": [
              "Index(['Closing price', 'EPS', 'Shares Outstanding(M)', 'P/E', 'Market Cap(B)',\n",
              "       'Beta'],\n",
              "      dtype='object')"
            ]
          },
          "metadata": {
            "tags": []
          },
          "execution_count": 13
        }
      ]
    },
    {
      "cell_type": "code",
      "metadata": {
        "id": "KBgeIzv-CEKh",
        "colab_type": "code",
        "colab": {
          "base_uri": "https://localhost:8080/",
          "height": 34
        },
        "outputId": "303fc72d-1e0a-4409-e4fb-d47f87f9c724"
      },
      "source": [
        "# Call column name attribute\n",
        "stock_df.columns"
      ],
      "execution_count": 14,
      "outputs": [
        {
          "output_type": "execute_result",
          "data": {
            "text/plain": [
              "Index(['FB', 'TWTR', 'SCNW'], dtype='object')"
            ]
          },
          "metadata": {
            "tags": []
          },
          "execution_count": 14
        }
      ]
    }
  ]
}