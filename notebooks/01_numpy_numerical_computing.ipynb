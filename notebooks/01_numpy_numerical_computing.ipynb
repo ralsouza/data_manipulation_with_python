{
  "nbformat": 4,
  "nbformat_minor": 0,
  "metadata": {
    "colab": {
      "name": "01_numpy_numerical_computing.ipynb",
      "provenance": [],
      "collapsed_sections": [],
      "authorship_tag": "ABX9TyPcfXeAHKsg0Vo94uKpmzPO",
      "include_colab_link": true
    },
    "kernelspec": {
      "name": "python3",
      "display_name": "Python 3"
    }
  },
  "cells": [
    {
      "cell_type": "markdown",
      "metadata": {
        "id": "view-in-github",
        "colab_type": "text"
      },
      "source": [
        "<a href=\"https://colab.research.google.com/github/ralsouza/data_manipulation_with_python/blob/master/notebooks/01_numpy_numerical_computing.ipynb\" target=\"_parent\"><img src=\"https://colab.research.google.com/assets/colab-badge.svg\" alt=\"Open In Colab\"/></a>"
      ]
    },
    {
      "cell_type": "markdown",
      "metadata": {
        "id": "F6XQxgJaKVbj",
        "colab_type": "text"
      },
      "source": [
        "To remember: Everthing in Python is an object, with methods and attributes.\n",
        "\n",
        "Method: Make an action on object\n",
        "Attribute: Characterist of object\n",
        "\n",
        "Examples:\n",
        "\n",
        "`# Method`\n",
        "\n",
        " `array2.max()`\n",
        "\n",
        "`# Attribute`\n",
        "\n",
        "`arra2.ndim`\n"
      ]
    },
    {
      "cell_type": "code",
      "metadata": {
        "id": "T0jMZ-7RFGJg",
        "colab_type": "code",
        "colab": {}
      },
      "source": [
        "# Import Numpy\n",
        "import numpy as np"
      ],
      "execution_count": 0,
      "outputs": []
    },
    {
      "cell_type": "markdown",
      "metadata": {
        "id": "HfTTKGxtH6TN",
        "colab_type": "text"
      },
      "source": [
        "# 1. Making Data Structures with Numpy"
      ]
    },
    {
      "cell_type": "code",
      "metadata": {
        "id": "gyYsxz3pHFEX",
        "colab_type": "code",
        "colab": {}
      },
      "source": [
        "# Array one-dimensional\n",
        "arr1 = np.array([10,20,30,40])"
      ],
      "execution_count": 0,
      "outputs": []
    },
    {
      "cell_type": "code",
      "metadata": {
        "id": "me7NwmY-IIHk",
        "colab_type": "code",
        "colab": {}
      },
      "source": [
        "# Array two-dimensional\n",
        "arr2 = np.array([[100,200,300],[20,30,40]])"
      ],
      "execution_count": 0,
      "outputs": []
    },
    {
      "cell_type": "code",
      "metadata": {
        "id": "xe1-aFS1IsIc",
        "colab_type": "code",
        "colab": {
          "base_uri": "https://localhost:8080/",
          "height": 34
        },
        "outputId": "c27a2c6c-31ce-45cd-e5ee-e2691d017eff"
      },
      "source": [
        "arr1"
      ],
      "execution_count": 5,
      "outputs": [
        {
          "output_type": "execute_result",
          "data": {
            "text/plain": [
              "array([10, 20, 30, 40])"
            ]
          },
          "metadata": {
            "tags": []
          },
          "execution_count": 5
        }
      ]
    },
    {
      "cell_type": "code",
      "metadata": {
        "id": "dxKAah1AIuIX",
        "colab_type": "code",
        "colab": {
          "base_uri": "https://localhost:8080/",
          "height": 51
        },
        "outputId": "461642d0-ee35-4927-89f0-1f2717df9735"
      },
      "source": [
        "arr2"
      ],
      "execution_count": 8,
      "outputs": [
        {
          "output_type": "execute_result",
          "data": {
            "text/plain": [
              "array([[100, 200, 300],\n",
              "       [ 20,  30,  40]])"
            ]
          },
          "metadata": {
            "tags": []
          },
          "execution_count": 8
        }
      ]
    },
    {
      "cell_type": "code",
      "metadata": {
        "id": "HK-eSUREIu19",
        "colab_type": "code",
        "colab": {
          "base_uri": "https://localhost:8080/",
          "height": 34
        },
        "outputId": "5bd39ac8-7a94-42c0-e721-d49dd25bbed9"
      },
      "source": [
        "# Check the shape of arr1\n",
        "arr1.shape"
      ],
      "execution_count": 11,
      "outputs": [
        {
          "output_type": "execute_result",
          "data": {
            "text/plain": [
              "(4,)"
            ]
          },
          "metadata": {
            "tags": []
          },
          "execution_count": 11
        }
      ]
    },
    {
      "cell_type": "code",
      "metadata": {
        "id": "Bf6uRtM2I8Yy",
        "colab_type": "code",
        "colab": {
          "base_uri": "https://localhost:8080/",
          "height": 34
        },
        "outputId": "d505a023-ca03-49d4-9564-45fca738aa8b"
      },
      "source": [
        "# Check the shape of arr2\n",
        "arr2.shape"
      ],
      "execution_count": 12,
      "outputs": [
        {
          "output_type": "execute_result",
          "data": {
            "text/plain": [
              "(2, 3)"
            ]
          },
          "metadata": {
            "tags": []
          },
          "execution_count": 12
        }
      ]
    },
    {
      "cell_type": "code",
      "metadata": {
        "id": "t-ncthWSJxAg",
        "colab_type": "code",
        "colab": {
          "base_uri": "https://localhost:8080/",
          "height": 34
        },
        "outputId": "c43b2519-86da-49a8-d4e7-9dc8631af693"
      },
      "source": [
        "# Check de number of dimensions\n",
        "arr2.ndim"
      ],
      "execution_count": 14,
      "outputs": [
        {
          "output_type": "execute_result",
          "data": {
            "text/plain": [
              "2"
            ]
          },
          "metadata": {
            "tags": []
          },
          "execution_count": 14
        }
      ]
    },
    {
      "cell_type": "code",
      "metadata": {
        "id": "GLITE9MeJ4tS",
        "colab_type": "code",
        "colab": {
          "base_uri": "https://localhost:8080/",
          "height": 34
        },
        "outputId": "0c5a9d7f-2d25-47b0-a4ac-358cc20db246"
      },
      "source": [
        "arr1.ndim"
      ],
      "execution_count": 15,
      "outputs": [
        {
          "output_type": "execute_result",
          "data": {
            "text/plain": [
              "1"
            ]
          },
          "metadata": {
            "tags": []
          },
          "execution_count": 15
        }
      ]
    },
    {
      "cell_type": "markdown",
      "metadata": {
        "id": "lWX1ib79Lxny",
        "colab_type": "text"
      },
      "source": [
        "## 1.2 Making Data Structures with `.arange()` function"
      ]
    },
    {
      "cell_type": "code",
      "metadata": {
        "id": "5XFhevmxL6H8",
        "colab_type": "code",
        "colab": {
          "base_uri": "https://localhost:8080/",
          "height": 34
        },
        "outputId": "cc987177-6099-4908-a351-7ceec010a8de"
      },
      "source": [
        "# Call .arange() function indicating the number of elements needed\n",
        "arr3 = np.arange(15)\n",
        "arr3"
      ],
      "execution_count": 17,
      "outputs": [
        {
          "output_type": "execute_result",
          "data": {
            "text/plain": [
              "array([ 0,  1,  2,  3,  4,  5,  6,  7,  8,  9, 10, 11, 12, 13, 14])"
            ]
          },
          "metadata": {
            "tags": []
          },
          "execution_count": 17
        }
      ]
    },
    {
      "cell_type": "code",
      "metadata": {
        "id": "_yyBlRtVMOYD",
        "colab_type": "code",
        "colab": {}
      },
      "source": [
        ""
      ],
      "execution_count": 0,
      "outputs": []
    }
  ]
}