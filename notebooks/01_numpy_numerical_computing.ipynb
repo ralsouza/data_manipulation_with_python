{
  "nbformat": 4,
  "nbformat_minor": 0,
  "metadata": {
    "colab": {
      "name": "01_numpy_numerical_computing.ipynb",
      "provenance": [],
      "collapsed_sections": [],
      "authorship_tag": "ABX9TyMmA93cUSKy//BPVxjB2BX9",
      "include_colab_link": true
    },
    "kernelspec": {
      "name": "python3",
      "display_name": "Python 3"
    }
  },
  "cells": [
    {
      "cell_type": "markdown",
      "metadata": {
        "id": "view-in-github",
        "colab_type": "text"
      },
      "source": [
        "<a href=\"https://colab.research.google.com/github/ralsouza/data_manipulation_with_python/blob/master/notebooks/01_numpy_numerical_computing.ipynb\" target=\"_parent\"><img src=\"https://colab.research.google.com/assets/colab-badge.svg\" alt=\"Open In Colab\"/></a>"
      ]
    },
    {
      "cell_type": "markdown",
      "metadata": {
        "id": "F6XQxgJaKVbj",
        "colab_type": "text"
      },
      "source": [
        "To remember: Everthing in Python is an object, with methods and attributes.\n",
        "\n",
        "Method: Make an action on object\n",
        "Attribute: Characterist of object\n",
        "\n",
        "Examples:\n",
        "\n",
        "`# Method`\n",
        "\n",
        " `array2.max()`\n",
        "\n",
        "`# Attribute`\n",
        "\n",
        "`arra2.ndim`\n"
      ]
    },
    {
      "cell_type": "code",
      "metadata": {
        "id": "T0jMZ-7RFGJg",
        "colab_type": "code",
        "colab": {}
      },
      "source": [
        "# Import Numpy\n",
        "import numpy as np"
      ],
      "execution_count": 0,
      "outputs": []
    },
    {
      "cell_type": "markdown",
      "metadata": {
        "id": "HfTTKGxtH6TN",
        "colab_type": "text"
      },
      "source": [
        "# 1. Making Data Structures with Numpy"
      ]
    },
    {
      "cell_type": "code",
      "metadata": {
        "id": "gyYsxz3pHFEX",
        "colab_type": "code",
        "colab": {}
      },
      "source": [
        "# Array one-dimensional\n",
        "arr1 = np.array([10,20,30,40])"
      ],
      "execution_count": 0,
      "outputs": []
    },
    {
      "cell_type": "code",
      "metadata": {
        "id": "me7NwmY-IIHk",
        "colab_type": "code",
        "colab": {}
      },
      "source": [
        "# Array two-dimensional\n",
        "arr2 = np.array([[100,200,300],[20,30,40]])"
      ],
      "execution_count": 0,
      "outputs": []
    },
    {
      "cell_type": "code",
      "metadata": {
        "id": "xe1-aFS1IsIc",
        "colab_type": "code",
        "colab": {
          "base_uri": "https://localhost:8080/",
          "height": 34
        },
        "outputId": "c27a2c6c-31ce-45cd-e5ee-e2691d017eff"
      },
      "source": [
        "arr1"
      ],
      "execution_count": 5,
      "outputs": [
        {
          "output_type": "execute_result",
          "data": {
            "text/plain": [
              "array([10, 20, 30, 40])"
            ]
          },
          "metadata": {
            "tags": []
          },
          "execution_count": 5
        }
      ]
    },
    {
      "cell_type": "code",
      "metadata": {
        "id": "dxKAah1AIuIX",
        "colab_type": "code",
        "colab": {
          "base_uri": "https://localhost:8080/",
          "height": 51
        },
        "outputId": "461642d0-ee35-4927-89f0-1f2717df9735"
      },
      "source": [
        "arr2"
      ],
      "execution_count": 8,
      "outputs": [
        {
          "output_type": "execute_result",
          "data": {
            "text/plain": [
              "array([[100, 200, 300],\n",
              "       [ 20,  30,  40]])"
            ]
          },
          "metadata": {
            "tags": []
          },
          "execution_count": 8
        }
      ]
    },
    {
      "cell_type": "code",
      "metadata": {
        "id": "HK-eSUREIu19",
        "colab_type": "code",
        "colab": {
          "base_uri": "https://localhost:8080/",
          "height": 34
        },
        "outputId": "5bd39ac8-7a94-42c0-e721-d49dd25bbed9"
      },
      "source": [
        "# Check the shape of arr1\n",
        "arr1.shape"
      ],
      "execution_count": 11,
      "outputs": [
        {
          "output_type": "execute_result",
          "data": {
            "text/plain": [
              "(4,)"
            ]
          },
          "metadata": {
            "tags": []
          },
          "execution_count": 11
        }
      ]
    },
    {
      "cell_type": "code",
      "metadata": {
        "id": "Bf6uRtM2I8Yy",
        "colab_type": "code",
        "colab": {
          "base_uri": "https://localhost:8080/",
          "height": 34
        },
        "outputId": "d505a023-ca03-49d4-9564-45fca738aa8b"
      },
      "source": [
        "# Check the shape of arr2\n",
        "arr2.shape"
      ],
      "execution_count": 12,
      "outputs": [
        {
          "output_type": "execute_result",
          "data": {
            "text/plain": [
              "(2, 3)"
            ]
          },
          "metadata": {
            "tags": []
          },
          "execution_count": 12
        }
      ]
    },
    {
      "cell_type": "code",
      "metadata": {
        "id": "t-ncthWSJxAg",
        "colab_type": "code",
        "colab": {
          "base_uri": "https://localhost:8080/",
          "height": 34
        },
        "outputId": "c43b2519-86da-49a8-d4e7-9dc8631af693"
      },
      "source": [
        "# Check de number of dimensions\n",
        "arr2.ndim"
      ],
      "execution_count": 14,
      "outputs": [
        {
          "output_type": "execute_result",
          "data": {
            "text/plain": [
              "2"
            ]
          },
          "metadata": {
            "tags": []
          },
          "execution_count": 14
        }
      ]
    },
    {
      "cell_type": "code",
      "metadata": {
        "id": "GLITE9MeJ4tS",
        "colab_type": "code",
        "colab": {
          "base_uri": "https://localhost:8080/",
          "height": 34
        },
        "outputId": "0c5a9d7f-2d25-47b0-a4ac-358cc20db246"
      },
      "source": [
        "arr1.ndim"
      ],
      "execution_count": 15,
      "outputs": [
        {
          "output_type": "execute_result",
          "data": {
            "text/plain": [
              "1"
            ]
          },
          "metadata": {
            "tags": []
          },
          "execution_count": 15
        }
      ]
    },
    {
      "cell_type": "markdown",
      "metadata": {
        "id": "lWX1ib79Lxny",
        "colab_type": "text"
      },
      "source": [
        "## 1.1 Making Data Structures with `.arange()` function"
      ]
    },
    {
      "cell_type": "code",
      "metadata": {
        "id": "5XFhevmxL6H8",
        "colab_type": "code",
        "colab": {
          "base_uri": "https://localhost:8080/",
          "height": 34
        },
        "outputId": "4bf18fa0-8117-4836-c609-10d14f96377a"
      },
      "source": [
        "# Call .arange() function indicating the number of elements needed\n",
        "arr3 = np.arange(15)\n",
        "arr3"
      ],
      "execution_count": 19,
      "outputs": [
        {
          "output_type": "execute_result",
          "data": {
            "text/plain": [
              "array([ 0,  1,  2,  3,  4,  5,  6,  7,  8,  9, 10, 11, 12, 13, 14])"
            ]
          },
          "metadata": {
            "tags": []
          },
          "execution_count": 19
        }
      ]
    },
    {
      "cell_type": "code",
      "metadata": {
        "id": "_yyBlRtVMOYD",
        "colab_type": "code",
        "colab": {
          "base_uri": "https://localhost:8080/",
          "height": 34
        },
        "outputId": "840de6f8-3c18-40ec-ae70-4d64b7944abe"
      },
      "source": [
        "# Using start/end (exclusive)\n",
        "arr4 = np.arange(0,15,5)\n",
        "arr4"
      ],
      "execution_count": 20,
      "outputs": [
        {
          "output_type": "execute_result",
          "data": {
            "text/plain": [
              "array([ 0,  5, 10])"
            ]
          },
          "metadata": {
            "tags": []
          },
          "execution_count": 20
        }
      ]
    },
    {
      "cell_type": "markdown",
      "metadata": {
        "id": "9aZNkkOQWSo5",
        "colab_type": "text"
      },
      "source": [
        "## 1.2 Making Data Structures with `.linspace()`"
      ]
    },
    {
      "cell_type": "code",
      "metadata": {
        "id": "OveNwYxRWN3-",
        "colab_type": "code",
        "colab": {
          "base_uri": "https://localhost:8080/",
          "height": 34
        },
        "outputId": "88ec3bed-cd6a-419c-f7c3-0c98184db2d1"
      },
      "source": [
        "arr5 = np.linspace(0,3,4); arr5"
      ],
      "execution_count": 21,
      "outputs": [
        {
          "output_type": "execute_result",
          "data": {
            "text/plain": [
              "array([0., 1., 2., 3.])"
            ]
          },
          "metadata": {
            "tags": []
          },
          "execution_count": 21
        }
      ]
    },
    {
      "cell_type": "markdown",
      "metadata": {
        "id": "IziUlWuiXmYV",
        "colab_type": "text"
      },
      "source": [
        "## 1.3 Others functions to Make Data Structures"
      ]
    },
    {
      "cell_type": "code",
      "metadata": {
        "id": "Cj1L5LnxXeTv",
        "colab_type": "code",
        "colab": {
          "base_uri": "https://localhost:8080/",
          "height": 187
        },
        "outputId": "1b60d9dd-eae6-4cbf-8045-2251613bf39f"
      },
      "source": [
        "# Making an array filled with zeros\n",
        "arr6 = np.zeros((10,8)); arr6"
      ],
      "execution_count": 22,
      "outputs": [
        {
          "output_type": "execute_result",
          "data": {
            "text/plain": [
              "array([[0., 0., 0., 0., 0., 0., 0., 0.],\n",
              "       [0., 0., 0., 0., 0., 0., 0., 0.],\n",
              "       [0., 0., 0., 0., 0., 0., 0., 0.],\n",
              "       [0., 0., 0., 0., 0., 0., 0., 0.],\n",
              "       [0., 0., 0., 0., 0., 0., 0., 0.],\n",
              "       [0., 0., 0., 0., 0., 0., 0., 0.],\n",
              "       [0., 0., 0., 0., 0., 0., 0., 0.],\n",
              "       [0., 0., 0., 0., 0., 0., 0., 0.],\n",
              "       [0., 0., 0., 0., 0., 0., 0., 0.],\n",
              "       [0., 0., 0., 0., 0., 0., 0., 0.]])"
            ]
          },
          "metadata": {
            "tags": []
          },
          "execution_count": 22
        }
      ]
    },
    {
      "cell_type": "code",
      "metadata": {
        "id": "WMzyzK_2X5LS",
        "colab_type": "code",
        "colab": {
          "base_uri": "https://localhost:8080/",
          "height": 136
        },
        "outputId": "bbf8d892-db19-46a4-a554-0ccde0597b9a"
      },
      "source": [
        "# Array 2x3x2\n",
        "arr7 = np.ones((2,3,2)); arr7"
      ],
      "execution_count": 23,
      "outputs": [
        {
          "output_type": "execute_result",
          "data": {
            "text/plain": [
              "array([[[1., 1.],\n",
              "        [1., 1.],\n",
              "        [1., 1.]],\n",
              "\n",
              "       [[1., 1.],\n",
              "        [1., 1.],\n",
              "        [1., 1.]]])"
            ]
          },
          "metadata": {
            "tags": []
          },
          "execution_count": 23
        }
      ]
    },
    {
      "cell_type": "code",
      "metadata": {
        "id": "OG8cWnNMYJkZ",
        "colab_type": "code",
        "colab": {
          "base_uri": "https://localhost:8080/",
          "height": 68
        },
        "outputId": "7174591d-25e4-4fdc-b56c-557c3aff4efd"
      },
      "source": [
        "# Making a Identity Matrix\n",
        "arr8 = np.eye(3); arr8"
      ],
      "execution_count": 24,
      "outputs": [
        {
          "output_type": "execute_result",
          "data": {
            "text/plain": [
              "array([[1., 0., 0.],\n",
              "       [0., 1., 0.],\n",
              "       [0., 0., 1.]])"
            ]
          },
          "metadata": {
            "tags": []
          },
          "execution_count": 24
        }
      ]
    },
    {
      "cell_type": "code",
      "metadata": {
        "id": "PlrniWD0Yema",
        "colab_type": "code",
        "colab": {
          "base_uri": "https://localhost:8080/",
          "height": 85
        },
        "outputId": "07da8099-fb48-4367-c16a-c49bcb2458ab"
      },
      "source": [
        "# Making the same, but specifying the numbers\n",
        "arr9 = np.diag((2,1,4,6)); arr9"
      ],
      "execution_count": 25,
      "outputs": [
        {
          "output_type": "execute_result",
          "data": {
            "text/plain": [
              "array([[2, 0, 0, 0],\n",
              "       [0, 1, 0, 0],\n",
              "       [0, 0, 4, 0],\n",
              "       [0, 0, 0, 6]])"
            ]
          },
          "metadata": {
            "tags": []
          },
          "execution_count": 25
        }
      ]
    },
    {
      "cell_type": "code",
      "metadata": {
        "id": "gFwKyQAcYyvg",
        "colab_type": "code",
        "colab": {
          "base_uri": "https://localhost:8080/",
          "height": 34
        },
        "outputId": "7452dce1-206e-4b39-a44c-ac01bfbd84b7"
      },
      "source": [
        "# numpy.random.rand\n",
        "# This function produces a sequence of numbers evenly distributed between 0 and n\n",
        "arr10 = np.random.rand(5); arr10"
      ],
      "execution_count": 26,
      "outputs": [
        {
          "output_type": "execute_result",
          "data": {
            "text/plain": [
              "array([0.1553103 , 0.11370327, 0.89100967, 0.64391248, 0.50451947])"
            ]
          },
          "metadata": {
            "tags": []
          },
          "execution_count": 26
        }
      ]
    },
    {
      "cell_type": "code",
      "metadata": {
        "id": "_cLpsgjGZn0H",
        "colab_type": "code",
        "colab": {
          "base_uri": "https://localhost:8080/",
          "height": 34
        },
        "outputId": "ab986978-3635-4e06-bd22-b4e3b2685b4a"
      },
      "source": [
        "# numpy.random.randn\n",
        "# This function produces a sequence of numbers with normal distribuition (Gaussian)\n",
        "arr11 = np.random.randn(5); arr11"
      ],
      "execution_count": 29,
      "outputs": [
        {
          "output_type": "execute_result",
          "data": {
            "text/plain": [
              "array([ 0.18500141, -1.04919057,  1.46073875, -0.49842971,  1.42895111])"
            ]
          },
          "metadata": {
            "tags": []
          },
          "execution_count": 29
        }
      ]
    },
    {
      "cell_type": "code",
      "metadata": {
        "id": "0p5St_quadt2",
        "colab_type": "code",
        "colab": {
          "base_uri": "https://localhost:8080/",
          "height": 68
        },
        "outputId": "34b62815-0397-4f39-df8d-298f1f535d4d"
      },
      "source": [
        "# Making a empty matrix\n",
        "arr13 = np.empty((3,2)); arr13"
      ],
      "execution_count": 33,
      "outputs": [
        {
          "output_type": "execute_result",
          "data": {
            "text/plain": [
              "array([[4.94e-322, 9.88e-322],\n",
              "       [1.48e-321, 9.88e-323],\n",
              "       [1.48e-322, 1.98e-322]])"
            ]
          },
          "metadata": {
            "tags": []
          },
          "execution_count": 33
        }
      ]
    },
    {
      "cell_type": "code",
      "metadata": {
        "id": "CX8Qzxpqa7RP",
        "colab_type": "code",
        "colab": {
          "base_uri": "https://localhost:8080/",
          "height": 51
        },
        "outputId": "2f045481-8615-4c77-aab4-1d6df91c9a8a"
      },
      "source": [
        "# Function .tile() to replicate a structure\n",
        "# First take some array\n",
        "arr14 = np.array([[9,4],[3,7]]); arr14"
      ],
      "execution_count": 36,
      "outputs": [
        {
          "output_type": "execute_result",
          "data": {
            "text/plain": [
              "array([[9, 4],\n",
              "       [3, 7]])"
            ]
          },
          "metadata": {
            "tags": []
          },
          "execution_count": 36
        }
      ]
    },
    {
      "cell_type": "code",
      "metadata": {
        "id": "1nhe-rracdev",
        "colab_type": "code",
        "colab": {
          "base_uri": "https://localhost:8080/",
          "height": 51
        },
        "outputId": "6b48cc18-6c69-475a-d598-268729e369db"
      },
      "source": [
        "# To tile arr14, 4 times by row\n",
        "np.tile(arr14,4)"
      ],
      "execution_count": 37,
      "outputs": [
        {
          "output_type": "execute_result",
          "data": {
            "text/plain": [
              "array([[9, 4, 9, 4, 9, 4, 9, 4],\n",
              "       [3, 7, 3, 7, 3, 7, 3, 7]])"
            ]
          },
          "metadata": {
            "tags": []
          },
          "execution_count": 37
        }
      ]
    },
    {
      "cell_type": "code",
      "metadata": {
        "id": "0IYpdYDicu2c",
        "colab_type": "code",
        "colab": {
          "base_uri": "https://localhost:8080/",
          "height": 85
        },
        "outputId": "f582b58e-ef3d-4754-ef9e-a3e86cd58c54"
      },
      "source": [
        "# To tile arr14, 4 times by row and column\n",
        "np.tile(arr14,(2,2))"
      ],
      "execution_count": 38,
      "outputs": [
        {
          "output_type": "execute_result",
          "data": {
            "text/plain": [
              "array([[9, 4, 9, 4],\n",
              "       [3, 7, 3, 7],\n",
              "       [9, 4, 9, 4],\n",
              "       [3, 7, 3, 7]])"
            ]
          },
          "metadata": {
            "tags": []
          },
          "execution_count": 38
        }
      ]
    },
    {
      "cell_type": "markdown",
      "metadata": {
        "id": "t3mIG_MVd6E-",
        "colab_type": "text"
      },
      "source": [
        "# 2. Data Types"
      ]
    },
    {
      "cell_type": "code",
      "metadata": {
        "id": "RKuSRGrEddXJ",
        "colab_type": "code",
        "colab": {
          "base_uri": "https://localhost:8080/",
          "height": 34
        },
        "outputId": "acf70c8f-0820-4c6b-c742-98b54df9804a"
      },
      "source": [
        "# Making an array with float numbers\n",
        "arr15 = np.array([8,-3,5,9],dtype='float'); arr15"
      ],
      "execution_count": 39,
      "outputs": [
        {
          "output_type": "execute_result",
          "data": {
            "text/plain": [
              "array([ 8., -3.,  5.,  9.])"
            ]
          },
          "metadata": {
            "tags": []
          },
          "execution_count": 39
        }
      ]
    },
    {
      "cell_type": "code",
      "metadata": {
        "id": "qobIUCOOeNDw",
        "colab_type": "code",
        "colab": {
          "base_uri": "https://localhost:8080/",
          "height": 34
        },
        "outputId": "7ef4bcb4-61fc-4e89-d9f1-44e56aafe514"
      },
      "source": [
        "# Check data type\n",
        "arr15.dtype"
      ],
      "execution_count": 40,
      "outputs": [
        {
          "output_type": "execute_result",
          "data": {
            "text/plain": [
              "dtype('float64')"
            ]
          },
          "metadata": {
            "tags": []
          },
          "execution_count": 40
        }
      ]
    },
    {
      "cell_type": "code",
      "metadata": {
        "id": "54wVcHzyec0d",
        "colab_type": "code",
        "colab": {
          "base_uri": "https://localhost:8080/",
          "height": 34
        },
        "outputId": "d7abb750-9db7-44c1-9c35-f72a93c9bfbf"
      },
      "source": [
        "# By default, arrays are maked with integer\n",
        "arr16 = np.array([2,4,6,8]); arr16"
      ],
      "execution_count": 42,
      "outputs": [
        {
          "output_type": "execute_result",
          "data": {
            "text/plain": [
              "array([2, 4, 6, 8])"
            ]
          },
          "metadata": {
            "tags": []
          },
          "execution_count": 42
        }
      ]
    },
    {
      "cell_type": "code",
      "metadata": {
        "id": "aOCLN2jUeyHb",
        "colab_type": "code",
        "colab": {
          "base_uri": "https://localhost:8080/",
          "height": 34
        },
        "outputId": "98c9c3a5-6860-40cf-9178-621f56a8bf77"
      },
      "source": [
        "arr16.dtype"
      ],
      "execution_count": 43,
      "outputs": [
        {
          "output_type": "execute_result",
          "data": {
            "text/plain": [
              "dtype('int64')"
            ]
          },
          "metadata": {
            "tags": []
          },
          "execution_count": 43
        }
      ]
    },
    {
      "cell_type": "code",
      "metadata": {
        "id": "39U6ASpZe39A",
        "colab_type": "code",
        "colab": {
          "base_uri": "https://localhost:8080/",
          "height": 34
        },
        "outputId": "9ab61d1b-1dfa-44b5-fe97-9c099a809056"
      },
      "source": [
        "# Making a array with one number as float\n",
        "arr17 = np.array([2.4,5,2,6]); arr17"
      ],
      "execution_count": 44,
      "outputs": [
        {
          "output_type": "execute_result",
          "data": {
            "text/plain": [
              "array([2.4, 5. , 2. , 6. ])"
            ]
          },
          "metadata": {
            "tags": []
          },
          "execution_count": 44
        }
      ]
    },
    {
      "cell_type": "code",
      "metadata": {
        "id": "r8PByw7XfIqO",
        "colab_type": "code",
        "colab": {
          "base_uri": "https://localhost:8080/",
          "height": 34
        },
        "outputId": "5d100736-42d8-413a-e68b-1209b07c61fe"
      },
      "source": [
        "arr17.dtype"
      ],
      "execution_count": 45,
      "outputs": [
        {
          "output_type": "execute_result",
          "data": {
            "text/plain": [
              "dtype('float64')"
            ]
          },
          "metadata": {
            "tags": []
          },
          "execution_count": 45
        }
      ]
    },
    {
      "cell_type": "code",
      "metadata": {
        "id": "rkwsWUc7fKsd",
        "colab_type": "code",
        "colab": {
          "base_uri": "https://localhost:8080/",
          "height": 34
        },
        "outputId": "a01a7c2a-6885-4956-8e14-1c6851d9a085"
      },
      "source": [
        "# Making an array with strings\n",
        "arr18 = np.array(['Data','Analysis','with Python']); arr18.dtype"
      ],
      "execution_count": 47,
      "outputs": [
        {
          "output_type": "execute_result",
          "data": {
            "text/plain": [
              "dtype('<U11')"
            ]
          },
          "metadata": {
            "tags": []
          },
          "execution_count": 47
        }
      ]
    },
    {
      "cell_type": "code",
      "metadata": {
        "id": "SoU2cFRafjrF",
        "colab_type": "code",
        "colab": {
          "base_uri": "https://localhost:8080/",
          "height": 34
        },
        "outputId": "c9f3600e-e2fe-4986-fd2b-4456030da285"
      },
      "source": [
        "# Making an array with boolean values\n",
        "arr19 = np.array([True,False,False]); arr19.dtype"
      ],
      "execution_count": 48,
      "outputs": [
        {
          "output_type": "execute_result",
          "data": {
            "text/plain": [
              "dtype('bool')"
            ]
          },
          "metadata": {
            "tags": []
          },
          "execution_count": 48
        }
      ]
    },
    {
      "cell_type": "code",
      "metadata": {
        "id": "DtUg0d1zf6zq",
        "colab_type": "code",
        "colab": {
          "base_uri": "https://localhost:8080/",
          "height": 34
        },
        "outputId": "b196baef-eef1-4e27-e2e5-5df63cc2f2e4"
      },
      "source": [
        "# Try to convert an array from float64 to int64\n",
        "# the float numbers are rounded\n",
        "arr20 = np.array([7,3,-4.5]); arr20.astype(int)"
      ],
      "execution_count": 49,
      "outputs": [
        {
          "output_type": "execute_result",
          "data": {
            "text/plain": [
              "array([ 7,  3, -4])"
            ]
          },
          "metadata": {
            "tags": []
          },
          "execution_count": 49
        }
      ]
    },
    {
      "cell_type": "markdown",
      "metadata": {
        "id": "-79qn2CIgkoZ",
        "colab_type": "text"
      },
      "source": [
        "# 3. Making Operations with Matrices"
      ]
    },
    {
      "cell_type": "code",
      "metadata": {
        "id": "2UjfHbgzgSyZ",
        "colab_type": "code",
        "colab": {
          "base_uri": "https://localhost:8080/",
          "height": 68
        },
        "outputId": "d28566d2-150e-4cb0-9fe4-c48877551466"
      },
      "source": [
        "# Multiply by 5\n",
        "arr21 = np.arange(0,30) * 5; arr21"
      ],
      "execution_count": 52,
      "outputs": [
        {
          "output_type": "execute_result",
          "data": {
            "text/plain": [
              "array([  0,   5,  10,  15,  20,  25,  30,  35,  40,  45,  50,  55,  60,\n",
              "        65,  70,  75,  80,  85,  90,  95, 100, 105, 110, 115, 120, 125,\n",
              "       130, 135, 140, 145])"
            ]
          },
          "metadata": {
            "tags": []
          },
          "execution_count": 52
        }
      ]
    },
    {
      "cell_type": "code",
      "metadata": {
        "id": "tB_PENwIjbWO",
        "colab_type": "code",
        "colab": {
          "base_uri": "https://localhost:8080/",
          "height": 85
        },
        "outputId": "19901520-ea46-4514-b97c-7590f7c763a7"
      },
      "source": [
        "# Elevate to power 4\n",
        "arr22 = np.arange(0,30) ** 4; arr22"
      ],
      "execution_count": 53,
      "outputs": [
        {
          "output_type": "execute_result",
          "data": {
            "text/plain": [
              "array([     0,      1,     16,     81,    256,    625,   1296,   2401,\n",
              "         4096,   6561,  10000,  14641,  20736,  28561,  38416,  50625,\n",
              "        65536,  83521, 104976, 130321, 160000, 194481, 234256, 279841,\n",
              "       331776, 390625, 456976, 531441, 614656, 707281])"
            ]
          },
          "metadata": {
            "tags": []
          },
          "execution_count": 53
        }
      ]
    },
    {
      "cell_type": "code",
      "metadata": {
        "id": "tW2bxUanj_9W",
        "colab_type": "code",
        "colab": {
          "base_uri": "https://localhost:8080/",
          "height": 51
        },
        "outputId": "b8ad5456-e23d-4c93-a70c-fd99c1e0a66c"
      },
      "source": [
        "# Add 1 to each element of array\n",
        "arr23 = np.arange(0,30) + 1; arr23"
      ],
      "execution_count": 54,
      "outputs": [
        {
          "output_type": "execute_result",
          "data": {
            "text/plain": [
              "array([ 1,  2,  3,  4,  5,  6,  7,  8,  9, 10, 11, 12, 13, 14, 15, 16, 17,\n",
              "       18, 19, 20, 21, 22, 23, 24, 25, 26, 27, 28, 29, 30])"
            ]
          },
          "metadata": {
            "tags": []
          },
          "execution_count": 54
        }
      ]
    },
    {
      "cell_type": "code",
      "metadata": {
        "id": "MvWgBZ_ukLne",
        "colab_type": "code",
        "colab": {}
      },
      "source": [
        "# Operation between arrays\n",
        "# Making two arrays\n",
        "arr24 = np.arange(0,30,3) + 3\n",
        "arr25 = np.arange(1,11)"
      ],
      "execution_count": 0,
      "outputs": []
    },
    {
      "cell_type": "code",
      "metadata": {
        "id": "vRg01Kygkfww",
        "colab_type": "code",
        "colab": {
          "base_uri": "https://localhost:8080/",
          "height": 34
        },
        "outputId": "1143eec6-5e5b-4678-9ee3-c6d76ed5d87b"
      },
      "source": [
        "# Subtract\n",
        "arr24 - arr25"
      ],
      "execution_count": 56,
      "outputs": [
        {
          "output_type": "execute_result",
          "data": {
            "text/plain": [
              "array([ 2,  4,  6,  8, 10, 12, 14, 16, 18, 20])"
            ]
          },
          "metadata": {
            "tags": []
          },
          "execution_count": 56
        }
      ]
    },
    {
      "cell_type": "code",
      "metadata": {
        "id": "90AgmJAokmS2",
        "colab_type": "code",
        "colab": {
          "base_uri": "https://localhost:8080/",
          "height": 34
        },
        "outputId": "b12f4826-b656-40f3-894d-89cb1db15db1"
      },
      "source": [
        "# Add\n",
        "arr24 + arr25"
      ],
      "execution_count": 57,
      "outputs": [
        {
          "output_type": "execute_result",
          "data": {
            "text/plain": [
              "array([ 4,  8, 12, 16, 20, 24, 28, 32, 36, 40])"
            ]
          },
          "metadata": {
            "tags": []
          },
          "execution_count": 57
        }
      ]
    },
    {
      "cell_type": "code",
      "metadata": {
        "id": "hFeLF-eokqEW",
        "colab_type": "code",
        "colab": {
          "base_uri": "https://localhost:8080/",
          "height": 34
        },
        "outputId": "67ed8994-4ab8-4932-cdb5-59ca4524798f"
      },
      "source": [
        "# Multiply\n",
        "arr24 * arr25"
      ],
      "execution_count": 58,
      "outputs": [
        {
          "output_type": "execute_result",
          "data": {
            "text/plain": [
              "array([  3,  12,  27,  48,  75, 108, 147, 192, 243, 300])"
            ]
          },
          "metadata": {
            "tags": []
          },
          "execution_count": 58
        }
      ]
    },
    {
      "cell_type": "code",
      "metadata": {
        "id": "RggPLbtgktnH",
        "colab_type": "code",
        "colab": {
          "base_uri": "https://localhost:8080/",
          "height": 34
        },
        "outputId": "6ab13093-6342-4af3-ed15-7f1295eb0409"
      },
      "source": [
        "# Divide\n",
        "arr24 / arr25"
      ],
      "execution_count": 59,
      "outputs": [
        {
          "output_type": "execute_result",
          "data": {
            "text/plain": [
              "array([3., 3., 3., 3., 3., 3., 3., 3., 3., 3.])"
            ]
          },
          "metadata": {
            "tags": []
          },
          "execution_count": 59
        }
      ]
    },
    {
      "cell_type": "code",
      "metadata": {
        "id": "7fboLki6kw5v",
        "colab_type": "code",
        "colab": {
          "base_uri": "https://localhost:8080/",
          "height": 51
        },
        "outputId": "e7a58b25-0f3f-4ecc-fa83-0b2d8ceb2d23"
      },
      "source": [
        "# Comparing values between arrays\n",
        "arr24 > arr25"
      ],
      "execution_count": 60,
      "outputs": [
        {
          "output_type": "execute_result",
          "data": {
            "text/plain": [
              "array([ True,  True,  True,  True,  True,  True,  True,  True,  True,\n",
              "        True])"
            ]
          },
          "metadata": {
            "tags": []
          },
          "execution_count": 60
        }
      ]
    },
    {
      "cell_type": "code",
      "metadata": {
        "id": "NmI3geFqlJF9",
        "colab_type": "code",
        "colab": {
          "base_uri": "https://localhost:8080/",
          "height": 34
        },
        "outputId": "74ed05cc-8dfe-4bfc-da7e-83a7f065c195"
      },
      "source": [
        "# Making logical tests\n",
        "arrA = np.array([True,False,True,False])\n",
        "arrB = np.array([False,False,True,False])\n",
        "\n",
        "np.logical_and(arrA,arrB)"
      ],
      "execution_count": 63,
      "outputs": [
        {
          "output_type": "execute_result",
          "data": {
            "text/plain": [
              "array([False, False,  True, False])"
            ]
          },
          "metadata": {
            "tags": []
          },
          "execution_count": 63
        }
      ]
    }
  ]
}