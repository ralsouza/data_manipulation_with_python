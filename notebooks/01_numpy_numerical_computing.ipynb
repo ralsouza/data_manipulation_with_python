{
  "nbformat": 4,
  "nbformat_minor": 0,
  "metadata": {
    "colab": {
      "name": "01_numpy_numerical_computing.ipynb",
      "provenance": [],
      "collapsed_sections": [],
      "authorship_tag": "ABX9TyOLmYTNByRwH+hngP1zBP01",
      "include_colab_link": true
    },
    "kernelspec": {
      "name": "python3",
      "display_name": "Python 3"
    }
  },
  "cells": [
    {
      "cell_type": "markdown",
      "metadata": {
        "id": "view-in-github",
        "colab_type": "text"
      },
      "source": [
        "<a href=\"https://colab.research.google.com/github/ralsouza/data_manipulation_with_python/blob/master/notebooks/01_numpy_numerical_computing.ipynb\" target=\"_parent\"><img src=\"https://colab.research.google.com/assets/colab-badge.svg\" alt=\"Open In Colab\"/></a>"
      ]
    },
    {
      "cell_type": "markdown",
      "metadata": {
        "id": "F6XQxgJaKVbj",
        "colab_type": "text"
      },
      "source": [
        "To remember: Everthing in Python is an object, with methods and attributes.\n",
        "\n",
        "Method: Make an action on object\n",
        "Attribute: Characterist of object\n",
        "\n",
        "Examples:\n",
        "\n",
        "`# Method`\n",
        "\n",
        " `array2.max()`\n",
        "\n",
        "`# Attribute`\n",
        "\n",
        "`arra2.ndim`\n"
      ]
    },
    {
      "cell_type": "code",
      "metadata": {
        "id": "T0jMZ-7RFGJg",
        "colab_type": "code",
        "colab": {}
      },
      "source": [
        "# Import Numpy\n",
        "import numpy as np"
      ],
      "execution_count": 0,
      "outputs": []
    },
    {
      "cell_type": "markdown",
      "metadata": {
        "id": "HfTTKGxtH6TN",
        "colab_type": "text"
      },
      "source": [
        "# 1. Making Data Structures with Numpy"
      ]
    },
    {
      "cell_type": "code",
      "metadata": {
        "id": "gyYsxz3pHFEX",
        "colab_type": "code",
        "colab": {}
      },
      "source": [
        "# Array one-dimensional\n",
        "arr1 = np.array([10,20,30,40])"
      ],
      "execution_count": 0,
      "outputs": []
    },
    {
      "cell_type": "code",
      "metadata": {
        "id": "me7NwmY-IIHk",
        "colab_type": "code",
        "colab": {}
      },
      "source": [
        "# Array two-dimensional\n",
        "arr2 = np.array([[100,200,300],[20,30,40]])"
      ],
      "execution_count": 0,
      "outputs": []
    },
    {
      "cell_type": "code",
      "metadata": {
        "id": "xe1-aFS1IsIc",
        "colab_type": "code",
        "colab": {
          "base_uri": "https://localhost:8080/",
          "height": 34
        },
        "outputId": "c27a2c6c-31ce-45cd-e5ee-e2691d017eff"
      },
      "source": [
        "arr1"
      ],
      "execution_count": 5,
      "outputs": [
        {
          "output_type": "execute_result",
          "data": {
            "text/plain": [
              "array([10, 20, 30, 40])"
            ]
          },
          "metadata": {
            "tags": []
          },
          "execution_count": 5
        }
      ]
    },
    {
      "cell_type": "code",
      "metadata": {
        "id": "dxKAah1AIuIX",
        "colab_type": "code",
        "colab": {
          "base_uri": "https://localhost:8080/",
          "height": 51
        },
        "outputId": "461642d0-ee35-4927-89f0-1f2717df9735"
      },
      "source": [
        "arr2"
      ],
      "execution_count": 8,
      "outputs": [
        {
          "output_type": "execute_result",
          "data": {
            "text/plain": [
              "array([[100, 200, 300],\n",
              "       [ 20,  30,  40]])"
            ]
          },
          "metadata": {
            "tags": []
          },
          "execution_count": 8
        }
      ]
    },
    {
      "cell_type": "code",
      "metadata": {
        "id": "HK-eSUREIu19",
        "colab_type": "code",
        "colab": {
          "base_uri": "https://localhost:8080/",
          "height": 34
        },
        "outputId": "5bd39ac8-7a94-42c0-e721-d49dd25bbed9"
      },
      "source": [
        "# Check the shape of arr1\n",
        "arr1.shape"
      ],
      "execution_count": 11,
      "outputs": [
        {
          "output_type": "execute_result",
          "data": {
            "text/plain": [
              "(4,)"
            ]
          },
          "metadata": {
            "tags": []
          },
          "execution_count": 11
        }
      ]
    },
    {
      "cell_type": "code",
      "metadata": {
        "id": "Bf6uRtM2I8Yy",
        "colab_type": "code",
        "colab": {
          "base_uri": "https://localhost:8080/",
          "height": 34
        },
        "outputId": "d505a023-ca03-49d4-9564-45fca738aa8b"
      },
      "source": [
        "# Check the shape of arr2\n",
        "arr2.shape"
      ],
      "execution_count": 12,
      "outputs": [
        {
          "output_type": "execute_result",
          "data": {
            "text/plain": [
              "(2, 3)"
            ]
          },
          "metadata": {
            "tags": []
          },
          "execution_count": 12
        }
      ]
    },
    {
      "cell_type": "code",
      "metadata": {
        "id": "t-ncthWSJxAg",
        "colab_type": "code",
        "colab": {
          "base_uri": "https://localhost:8080/",
          "height": 34
        },
        "outputId": "c43b2519-86da-49a8-d4e7-9dc8631af693"
      },
      "source": [
        "# Check de number of dimensions\n",
        "arr2.ndim"
      ],
      "execution_count": 14,
      "outputs": [
        {
          "output_type": "execute_result",
          "data": {
            "text/plain": [
              "2"
            ]
          },
          "metadata": {
            "tags": []
          },
          "execution_count": 14
        }
      ]
    },
    {
      "cell_type": "code",
      "metadata": {
        "id": "GLITE9MeJ4tS",
        "colab_type": "code",
        "colab": {
          "base_uri": "https://localhost:8080/",
          "height": 34
        },
        "outputId": "0c5a9d7f-2d25-47b0-a4ac-358cc20db246"
      },
      "source": [
        "arr1.ndim"
      ],
      "execution_count": 15,
      "outputs": [
        {
          "output_type": "execute_result",
          "data": {
            "text/plain": [
              "1"
            ]
          },
          "metadata": {
            "tags": []
          },
          "execution_count": 15
        }
      ]
    },
    {
      "cell_type": "markdown",
      "metadata": {
        "id": "lWX1ib79Lxny",
        "colab_type": "text"
      },
      "source": [
        "## 1.1 Making Data Structures with `.arange()` function"
      ]
    },
    {
      "cell_type": "code",
      "metadata": {
        "id": "5XFhevmxL6H8",
        "colab_type": "code",
        "colab": {
          "base_uri": "https://localhost:8080/",
          "height": 34
        },
        "outputId": "4bf18fa0-8117-4836-c609-10d14f96377a"
      },
      "source": [
        "# Call .arange() function indicating the number of elements needed\n",
        "arr3 = np.arange(15)\n",
        "arr3"
      ],
      "execution_count": 19,
      "outputs": [
        {
          "output_type": "execute_result",
          "data": {
            "text/plain": [
              "array([ 0,  1,  2,  3,  4,  5,  6,  7,  8,  9, 10, 11, 12, 13, 14])"
            ]
          },
          "metadata": {
            "tags": []
          },
          "execution_count": 19
        }
      ]
    },
    {
      "cell_type": "code",
      "metadata": {
        "id": "_yyBlRtVMOYD",
        "colab_type": "code",
        "colab": {
          "base_uri": "https://localhost:8080/",
          "height": 34
        },
        "outputId": "840de6f8-3c18-40ec-ae70-4d64b7944abe"
      },
      "source": [
        "# Using start/end (exclusive)\n",
        "arr4 = np.arange(0,15,5)\n",
        "arr4"
      ],
      "execution_count": 20,
      "outputs": [
        {
          "output_type": "execute_result",
          "data": {
            "text/plain": [
              "array([ 0,  5, 10])"
            ]
          },
          "metadata": {
            "tags": []
          },
          "execution_count": 20
        }
      ]
    },
    {
      "cell_type": "markdown",
      "metadata": {
        "id": "9aZNkkOQWSo5",
        "colab_type": "text"
      },
      "source": [
        "## 1.2 Making Data Structures with `.linspace()`"
      ]
    },
    {
      "cell_type": "code",
      "metadata": {
        "id": "OveNwYxRWN3-",
        "colab_type": "code",
        "colab": {
          "base_uri": "https://localhost:8080/",
          "height": 34
        },
        "outputId": "88ec3bed-cd6a-419c-f7c3-0c98184db2d1"
      },
      "source": [
        "arr5 = np.linspace(0,3,4); arr5"
      ],
      "execution_count": 21,
      "outputs": [
        {
          "output_type": "execute_result",
          "data": {
            "text/plain": [
              "array([0., 1., 2., 3.])"
            ]
          },
          "metadata": {
            "tags": []
          },
          "execution_count": 21
        }
      ]
    },
    {
      "cell_type": "markdown",
      "metadata": {
        "id": "IziUlWuiXmYV",
        "colab_type": "text"
      },
      "source": [
        "## 1.3 Others functions to Make Data Structures"
      ]
    },
    {
      "cell_type": "code",
      "metadata": {
        "id": "Cj1L5LnxXeTv",
        "colab_type": "code",
        "colab": {
          "base_uri": "https://localhost:8080/",
          "height": 187
        },
        "outputId": "1b60d9dd-eae6-4cbf-8045-2251613bf39f"
      },
      "source": [
        "# Making an array filled with zeros\n",
        "arr6 = np.zeros((10,8)); arr6"
      ],
      "execution_count": 22,
      "outputs": [
        {
          "output_type": "execute_result",
          "data": {
            "text/plain": [
              "array([[0., 0., 0., 0., 0., 0., 0., 0.],\n",
              "       [0., 0., 0., 0., 0., 0., 0., 0.],\n",
              "       [0., 0., 0., 0., 0., 0., 0., 0.],\n",
              "       [0., 0., 0., 0., 0., 0., 0., 0.],\n",
              "       [0., 0., 0., 0., 0., 0., 0., 0.],\n",
              "       [0., 0., 0., 0., 0., 0., 0., 0.],\n",
              "       [0., 0., 0., 0., 0., 0., 0., 0.],\n",
              "       [0., 0., 0., 0., 0., 0., 0., 0.],\n",
              "       [0., 0., 0., 0., 0., 0., 0., 0.],\n",
              "       [0., 0., 0., 0., 0., 0., 0., 0.]])"
            ]
          },
          "metadata": {
            "tags": []
          },
          "execution_count": 22
        }
      ]
    },
    {
      "cell_type": "code",
      "metadata": {
        "id": "WMzyzK_2X5LS",
        "colab_type": "code",
        "colab": {
          "base_uri": "https://localhost:8080/",
          "height": 136
        },
        "outputId": "bbf8d892-db19-46a4-a554-0ccde0597b9a"
      },
      "source": [
        "# Array 2x3x2\n",
        "arr7 = np.ones((2,3,2)); arr7"
      ],
      "execution_count": 23,
      "outputs": [
        {
          "output_type": "execute_result",
          "data": {
            "text/plain": [
              "array([[[1., 1.],\n",
              "        [1., 1.],\n",
              "        [1., 1.]],\n",
              "\n",
              "       [[1., 1.],\n",
              "        [1., 1.],\n",
              "        [1., 1.]]])"
            ]
          },
          "metadata": {
            "tags": []
          },
          "execution_count": 23
        }
      ]
    },
    {
      "cell_type": "code",
      "metadata": {
        "id": "OG8cWnNMYJkZ",
        "colab_type": "code",
        "colab": {
          "base_uri": "https://localhost:8080/",
          "height": 68
        },
        "outputId": "7174591d-25e4-4fdc-b56c-557c3aff4efd"
      },
      "source": [
        "# Making a Identity Matrix\n",
        "arr8 = np.eye(3); arr8"
      ],
      "execution_count": 24,
      "outputs": [
        {
          "output_type": "execute_result",
          "data": {
            "text/plain": [
              "array([[1., 0., 0.],\n",
              "       [0., 1., 0.],\n",
              "       [0., 0., 1.]])"
            ]
          },
          "metadata": {
            "tags": []
          },
          "execution_count": 24
        }
      ]
    },
    {
      "cell_type": "code",
      "metadata": {
        "id": "PlrniWD0Yema",
        "colab_type": "code",
        "colab": {
          "base_uri": "https://localhost:8080/",
          "height": 85
        },
        "outputId": "07da8099-fb48-4367-c16a-c49bcb2458ab"
      },
      "source": [
        "# Making the same, but specifying the numbers\n",
        "arr9 = np.diag((2,1,4,6)); arr9"
      ],
      "execution_count": 25,
      "outputs": [
        {
          "output_type": "execute_result",
          "data": {
            "text/plain": [
              "array([[2, 0, 0, 0],\n",
              "       [0, 1, 0, 0],\n",
              "       [0, 0, 4, 0],\n",
              "       [0, 0, 0, 6]])"
            ]
          },
          "metadata": {
            "tags": []
          },
          "execution_count": 25
        }
      ]
    },
    {
      "cell_type": "code",
      "metadata": {
        "id": "gFwKyQAcYyvg",
        "colab_type": "code",
        "colab": {
          "base_uri": "https://localhost:8080/",
          "height": 34
        },
        "outputId": "7452dce1-206e-4b39-a44c-ac01bfbd84b7"
      },
      "source": [
        "# numpy.random.rand\n",
        "# This function produces a sequence of numbers evenly distributed between 0 and n\n",
        "arr10 = np.random.rand(5); arr10"
      ],
      "execution_count": 26,
      "outputs": [
        {
          "output_type": "execute_result",
          "data": {
            "text/plain": [
              "array([0.1553103 , 0.11370327, 0.89100967, 0.64391248, 0.50451947])"
            ]
          },
          "metadata": {
            "tags": []
          },
          "execution_count": 26
        }
      ]
    },
    {
      "cell_type": "code",
      "metadata": {
        "id": "_cLpsgjGZn0H",
        "colab_type": "code",
        "colab": {
          "base_uri": "https://localhost:8080/",
          "height": 34
        },
        "outputId": "ab986978-3635-4e06-bd22-b4e3b2685b4a"
      },
      "source": [
        "# numpy.random.randn\n",
        "# This function produces a sequence of numbers with normal distribuition (Gaussian)\n",
        "arr11 = np.random.randn(5); arr11"
      ],
      "execution_count": 29,
      "outputs": [
        {
          "output_type": "execute_result",
          "data": {
            "text/plain": [
              "array([ 0.18500141, -1.04919057,  1.46073875, -0.49842971,  1.42895111])"
            ]
          },
          "metadata": {
            "tags": []
          },
          "execution_count": 29
        }
      ]
    },
    {
      "cell_type": "code",
      "metadata": {
        "id": "0p5St_quadt2",
        "colab_type": "code",
        "colab": {
          "base_uri": "https://localhost:8080/",
          "height": 68
        },
        "outputId": "34b62815-0397-4f39-df8d-298f1f535d4d"
      },
      "source": [
        "# Making a empty matrix\n",
        "arr13 = np.empty((3,2)); arr13"
      ],
      "execution_count": 33,
      "outputs": [
        {
          "output_type": "execute_result",
          "data": {
            "text/plain": [
              "array([[4.94e-322, 9.88e-322],\n",
              "       [1.48e-321, 9.88e-323],\n",
              "       [1.48e-322, 1.98e-322]])"
            ]
          },
          "metadata": {
            "tags": []
          },
          "execution_count": 33
        }
      ]
    },
    {
      "cell_type": "code",
      "metadata": {
        "id": "CX8Qzxpqa7RP",
        "colab_type": "code",
        "colab": {
          "base_uri": "https://localhost:8080/",
          "height": 51
        },
        "outputId": "2f045481-8615-4c77-aab4-1d6df91c9a8a"
      },
      "source": [
        "# Function .tile() to replicate a structure\n",
        "# First take some array\n",
        "arr14 = np.array([[9,4],[3,7]]); arr14"
      ],
      "execution_count": 36,
      "outputs": [
        {
          "output_type": "execute_result",
          "data": {
            "text/plain": [
              "array([[9, 4],\n",
              "       [3, 7]])"
            ]
          },
          "metadata": {
            "tags": []
          },
          "execution_count": 36
        }
      ]
    },
    {
      "cell_type": "code",
      "metadata": {
        "id": "1nhe-rracdev",
        "colab_type": "code",
        "colab": {
          "base_uri": "https://localhost:8080/",
          "height": 51
        },
        "outputId": "6b48cc18-6c69-475a-d598-268729e369db"
      },
      "source": [
        "# To tile arr14, 4 times by row\n",
        "np.tile(arr14,4)"
      ],
      "execution_count": 37,
      "outputs": [
        {
          "output_type": "execute_result",
          "data": {
            "text/plain": [
              "array([[9, 4, 9, 4, 9, 4, 9, 4],\n",
              "       [3, 7, 3, 7, 3, 7, 3, 7]])"
            ]
          },
          "metadata": {
            "tags": []
          },
          "execution_count": 37
        }
      ]
    },
    {
      "cell_type": "code",
      "metadata": {
        "id": "0IYpdYDicu2c",
        "colab_type": "code",
        "colab": {
          "base_uri": "https://localhost:8080/",
          "height": 85
        },
        "outputId": "f582b58e-ef3d-4754-ef9e-a3e86cd58c54"
      },
      "source": [
        "# To tile arr14, 4 times by row and column\n",
        "np.tile(arr14,(2,2))"
      ],
      "execution_count": 38,
      "outputs": [
        {
          "output_type": "execute_result",
          "data": {
            "text/plain": [
              "array([[9, 4, 9, 4],\n",
              "       [3, 7, 3, 7],\n",
              "       [9, 4, 9, 4],\n",
              "       [3, 7, 3, 7]])"
            ]
          },
          "metadata": {
            "tags": []
          },
          "execution_count": 38
        }
      ]
    },
    {
      "cell_type": "code",
      "metadata": {
        "id": "RKuSRGrEddXJ",
        "colab_type": "code",
        "colab": {}
      },
      "source": [
        ""
      ],
      "execution_count": 0,
      "outputs": []
    }
  ]
}